{
 "cells": [
  {
   "cell_type": "code",
   "execution_count": null,
   "id": "f4f01f9c-60f3-40fe-acf5-f22cbb88806d",
   "metadata": {},
   "outputs": [],
   "source": [
    "import torch\n",
    "import torch.nn as nn\n",
    "import torch.optim as optim\n",
    "from torch.utils.data import DataLoader\n",
    "import torchvision\n",
    "import torchvision.transforms as transforms\n",
    "import matplotlib.pyplot as plt\n",
    "from torch.optim import lr_scheduler\n",
    "from ghostnet import ghostnet\n",
    "# from ghostnet_modified import ghostnet    #you can use this modified model"
   ]
  },
  {
   "cell_type": "code",
   "execution_count": null,
   "id": "09366e0d-e881-4939-9171-e27f47b79de3",
   "metadata": {},
   "outputs": [],
   "source": [
    "#cifar10 transforms\n",
    "\n",
    "# transform = transforms.Compose([\n",
    "#     transforms.ToTensor(),\n",
    "#     transforms.Normalize(mean=[0.4914, 0.4822, 0.4465], std=[0.2023, 0.1994, 0.2010]),\n",
    "# ])"
   ]
  },
  {
   "cell_type": "code",
   "execution_count": null,
   "id": "5925fc91-fe56-4f2e-a31a-ec91f8dc29fc",
   "metadata": {},
   "outputs": [],
   "source": [
    "#stl10 transform\n",
    "\n",
    "transform = transforms.Compose([\n",
    "    transforms.Resize((128, 128)),\n",
    "    transforms.ToTensor(),\n",
    "    transforms.Normalize(mean=[0.5, 0.5, 0.5], std=[0.5, 0.5, 0.5]),\n",
    "    transforms.RandomHorizontalFlip(),\n",
    "    transforms.RandomRotation(10),\n",
    "    # transforms.RandomCrop(64, padding=4),\n",
    "    transforms.ColorJitter(brightness=0.2, contrast=0.2, saturation=0.2, hue=0.1)\n",
    "])"
   ]
  },
  {
   "cell_type": "code",
   "execution_count": null,
   "id": "265da3a3-cd6d-4420-8e68-de9ecdc84c15",
   "metadata": {},
   "outputs": [],
   "source": [
    "#cifar10 dataloasers\n",
    "\n",
    "# train_dataset = torchvision.datasets.CIFAR10(root='./data', train=True, download=True, transform=transform)\n",
    "# test_dataset = torchvision.datasets.CIFAR10(root='./data', train=False, download=True, transform=transform)\n",
    "\n",
    "# train_loader = DataLoader(train_dataset, batch_size=64, shuffle=True, num_workers=4)\n",
    "# test_loader = DataLoader(test_dataset, batch_size=64, shuffle=False, num_workers=4)"
   ]
  },
  {
   "cell_type": "code",
   "execution_count": null,
   "id": "ed2338d5-5619-4d49-a004-ff5dd0949d2f",
   "metadata": {},
   "outputs": [],
   "source": [
    "#stl10 dataloaders\n",
    "\n",
    "train_dataset = torchvision.datasets.STL10(root='./data', split='train', transform=transform, download=True)\n",
    "test_dataset = torchvision.datasets.STL10(root='./data', split='test', transform=transform, download=True)\n",
    "\n",
    "train_loader = DataLoader(train_dataset, batch_size=128, shuffle=True)\n",
    "test_loader = DataLoader(test_dataset, batch_size=128, shuffle=False)"
   ]
  },
  {
   "cell_type": "code",
   "execution_count": null,
   "id": "16ed67ef-002e-43c7-97fe-559ca6fa037c",
   "metadata": {},
   "outputs": [],
   "source": [
    "def count_parameters(model):\n",
    "    return sum(p.numel() for p in model.parameters() if p.requires_grad)"
   ]
  },
  {
   "cell_type": "code",
   "execution_count": null,
   "id": "a49cd3b6-3e9e-4ba8-bb6d-7470631f3db1",
   "metadata": {},
   "outputs": [],
   "source": [
    "model = ghostnet(num_classes=10, width=1.0, dropout=0.5)"
   ]
  },
  {
   "cell_type": "code",
   "execution_count": null,
   "id": "b96d0e85-3a63-448d-bebc-bf5cf1ddb356",
   "metadata": {},
   "outputs": [],
   "source": [
    "count_parameters(model)"
   ]
  },
  {
   "cell_type": "code",
   "execution_count": null,
   "id": "901277f8-2981-4ca1-bac0-6480ba4c0149",
   "metadata": {},
   "outputs": [],
   "source": [
    "train_loader.dataset"
   ]
  },
  {
   "cell_type": "code",
   "execution_count": null,
   "id": "27e93ec1-4eb6-4fdd-a741-88bf2ca728f4",
   "metadata": {},
   "outputs": [],
   "source": [
    "criterion = nn.CrossEntropyLoss()\n",
    "optimizer = optim.Adam(model.parameters(), lr=0.002)\n",
    "\n",
    "scheduler = lr_scheduler.StepLR(optimizer, step_size=30, gamma=0.1)"
   ]
  },
  {
   "cell_type": "code",
   "execution_count": null,
   "id": "53e31eae-ed2b-4858-9861-4d128eced143",
   "metadata": {},
   "outputs": [],
   "source": [
    "def evaluate_model(model, test_loader, best_acc):\n",
    "    model.eval()\n",
    "    correct = 0\n",
    "    total = 0\n",
    "    running_loss = 0.0\n",
    "\n",
    "    with torch.no_grad():\n",
    "        for inputs, labels in test_loader:\n",
    "            inputs, labels = inputs, labels\n",
    "            outputs = model(inputs)\n",
    "            _, predicted = torch.max(outputs, 1)\n",
    "            total += labels.size(0)\n",
    "            correct += (predicted == labels).sum().item()\n",
    "            \n",
    "            loss = criterion(outputs, labels)\n",
    "            running_loss += loss.item()\n",
    "            epoch_loss = running_loss / len(test_loader)\n",
    "\n",
    "\n",
    "    accuracy = 100 * correct / total\n",
    "    if accuracy > best_acc:\n",
    "        best_acc = accuracy\n",
    "        torch.save(model, 'best-model_org.pt')\n",
    "        torch.save(model.state_dict(), 'best-model-parameters_org.pt')\n",
    "    print(f\" test_Loss: {epoch_loss:.4f}, Test Accuracy: {accuracy:.2f}%\")\n",
    "    return accuracy, epoch_loss"
   ]
  },
  {
   "cell_type": "code",
   "execution_count": null,
   "id": "5029ae2e-c2fa-4351-a50d-af5167c4f9fa",
   "metadata": {},
   "outputs": [],
   "source": [
    "def train_model(model, train_loader, test_loader, criterion, optimizer, scheduler, num_epochs=50):\n",
    "    train_losses = []\n",
    "    train_accuracies = []\n",
    "    test_acc = []\n",
    "    test_losses = []\n",
    "    \n",
    "    best_acc = 0.\n",
    "    previous_validation_loss = 100.\n",
    "    early_stop_counter = 0\n",
    "    for epoch in range(num_epochs):\n",
    "        model.train()\n",
    "        running_loss = 0.0\n",
    "        correct = 0\n",
    "        total = 0\n",
    "\n",
    "        for inputs, labels in train_loader:\n",
    "            inputs, labels = inputs, labels\n",
    "\n",
    "            optimizer.zero_grad()\n",
    "            outputs = model(inputs)\n",
    "            loss = criterion(outputs, labels)\n",
    "            loss.backward()\n",
    "            optimizer.step()\n",
    "\n",
    "            running_loss += loss.item()\n",
    "\n",
    "            _, predicted = torch.max(outputs, 1)\n",
    "            total += labels.size(0)\n",
    "            correct += (predicted == labels).sum().item()\n",
    "\n",
    "        epoch_loss = running_loss / len(train_loader)\n",
    "        epoch_acc = 100 * correct / total\n",
    "        train_losses.append(epoch_loss)\n",
    "        train_accuracies.append(epoch_acc)\n",
    "\n",
    "        print(f\"Epoch [{epoch + 1}/{num_epochs}], Loss: {epoch_loss:.4f}, Accuracy: {epoch_acc:.2f}%\")\n",
    "        test_accuracy, test_loss = evaluate_model(model, test_loader, best_acc)\n",
    "\n",
    "        if test_loss > previous_validation_loss:\n",
    "                early_stop_counter += 1\n",
    "        else:\n",
    "            early_stop_counter = 0\n",
    "        if early_stop_counter >= 10:\n",
    "            print(\"Early stopping triggered\")\n",
    "            break\n",
    "        previous_validation_loss = test_loss\n",
    "        \n",
    "        test_acc.append(test_accuracy)\n",
    "        test_losses.append(test_loss)\n",
    "        scheduler.step()\n",
    "\n",
    "    return train_losses, train_accuracies, test_acc, test_losses"
   ]
  },
  {
   "cell_type": "code",
   "execution_count": null,
   "id": "3e5febc3-b59c-4d24-bbea-8a33f41f552f",
   "metadata": {},
   "outputs": [],
   "source": [
    "num_epochs = 150\n",
    "train_losses, train_accuracies, test_acc, test_losses = train_model(model, train_loader, test_loader, criterion, optimizer, scheduler, num_epochs)"
   ]
  },
  {
   "cell_type": "code",
   "execution_count": null,
   "id": "9c0984a7-fa14-43fe-bb65-ed237c1cd610",
   "metadata": {},
   "outputs": [],
   "source": [
    "epochs_range = range(1, num_epochs + 1)\n",
    "    \n",
    "plt.figure(figsize=(12, 5))\n",
    "\n",
    "plt.subplot(1, 2, 1)\n",
    "plt.plot(epochs_range, train_losses, label='Train Loss')\n",
    "plt.plot(epochs_range, test_losses, label='Test Loss')\n",
    "plt.xlabel('Epochs')\n",
    "plt.ylabel('Loss')\n",
    "plt.title('Training Loss')\n",
    "plt.legend()\n",
    "\n",
    "plt.subplot(1, 2, 2)\n",
    "plt.plot(epochs_range, train_accuracies, label='Train Accuracy')\n",
    "plt.plot(epochs_range, test_acc, label='test Accuracy')\n",
    "plt.xlabel('Epochs')\n",
    "plt.ylabel('Accuracy')\n",
    "plt.title('Training and test Accuracy')\n",
    "plt.legend()\n",
    "\n",
    "plt.show()"
   ]
  }
 ],
 "metadata": {
  "kernelspec": {
   "display_name": "Python 3 (ipykernel)",
   "language": "python",
   "name": "python3"
  },
  "language_info": {
   "codemirror_mode": {
    "name": "ipython",
    "version": 3
   },
   "file_extension": ".py",
   "mimetype": "text/x-python",
   "name": "python",
   "nbconvert_exporter": "python",
   "pygments_lexer": "ipython3",
   "version": "3.10.2"
  }
 },
 "nbformat": 4,
 "nbformat_minor": 5
}
